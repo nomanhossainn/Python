{
  "nbformat": 4,
  "nbformat_minor": 0,
  "metadata": {
    "colab": {
      "provenance": []
    },
    "kernelspec": {
      "name": "python3",
      "display_name": "Python 3"
    },
    "language_info": {
      "name": "python"
    }
  },
  "cells": [
    {
      "cell_type": "code",
      "execution_count": 5,
      "metadata": {
        "id": "X6GJwTAgD7M-"
      },
      "outputs": [],
      "source": [
        "def is_valid(state):\n",
        "    left_missionaries, left_cannibals, boat, right_missionaries, right_cannibals = state\n",
        "    if 0 <= left_missionaries <= 3 and 0 <= left_cannibals <= 3 and 0 <= right_missionaries <= 3 and 0 <= right_cannibals <= 3:\n",
        "        if (left_missionaries == 0 or left_missionaries >= left_cannibals) and (right_missionaries == 0 or right_missionaries >= right_cannibals):\n",
        "            return True\n",
        "    return False\n"
      ]
    },
    {
      "cell_type": "code",
      "source": [
        "def generate_next_states(state):\n",
        "    left_missionaries, left_cannibals, boat, right_missionaries, right_cannibals = state\n",
        "    moves = [(1,0), (2,0), (0,1), (0,2), (1,1)]\n",
        "    next_states = []\n",
        "    for nm, nc in moves:\n",
        "        if boat == 1:\n",
        "            new_state = (left_missionaries - nm, left_cannibals - nc, 0, right_missionaries + nm, right_cannibals + nc)\n",
        "        else:\n",
        "            new_state = (left_missionaries + nm, left_cannibals + nc, 1, right_missionaries - nm, right_cannibals - nc)\n",
        "        if is_valid(new_state):\n",
        "            next_states.append(new_state)\n",
        "    return next_states"
      ],
      "metadata": {
        "id": "Y47Q0g47-QNE"
      },
      "execution_count": 12,
      "outputs": []
    },
    {
      "cell_type": "code",
      "source": [
        "def bfs(initial_state):\n",
        "    queue = [(initial_state, [initial_state])]\n",
        "    visited = set()\n",
        "    while queue:\n",
        "        current_state, path = queue.pop(0)\n",
        "        if current_state in visited:\n",
        "            continue\n",
        "        visited.add(current_state)\n",
        "        if current_state == (0, 0, 0, 3, 3):\n",
        "            return path\n",
        "        for next_state in generate_next_states(current_state):\n",
        "            if next_state not in visited:\n",
        "                queue.append((next_state, path + [next_state]))\n",
        "    return None"
      ],
      "metadata": {
        "id": "p_FihFbW-T9v"
      },
      "execution_count": 13,
      "outputs": []
    },
    {
      "cell_type": "code",
      "source": [
        "start_state = (3, 3, 1, 0, 0)\n",
        "\n",
        "solution = bfs(start_state)\n",
        "\n",
        "if solution:\n",
        "    print(\"Solution Path:\")\n",
        "    for state in solution:\n",
        "        left_missionaries, left_cannibals, boat, right_missionaries, right_cannibals = state\n",
        "        print(f\"{left_missionaries} Missionaries, {left_cannibals} Cannibals, {'Boat on left' if boat == 1 else 'Boat on right'}, {right_missionaries} Missionaries, {right_cannibals} Cannibals\")\n",
        "else:\n",
        "    print(\"No Solution\")"
      ],
      "metadata": {
        "colab": {
          "base_uri": "https://localhost:8080/"
        },
        "id": "6K0FDc_C-edF",
        "outputId": "8a1877cf-e0d6-4b3b-de2c-2a6fe1901d57"
      },
      "execution_count": 14,
      "outputs": [
        {
          "output_type": "stream",
          "name": "stdout",
          "text": [
            "Solution Path:\n",
            "3 Missionaries, 3 Cannibals, Boat on left, 0 Missionaries, 0 Cannibals\n",
            "3 Missionaries, 1 Cannibals, Boat on right, 0 Missionaries, 2 Cannibals\n",
            "3 Missionaries, 2 Cannibals, Boat on left, 0 Missionaries, 1 Cannibals\n",
            "3 Missionaries, 0 Cannibals, Boat on right, 0 Missionaries, 3 Cannibals\n",
            "3 Missionaries, 1 Cannibals, Boat on left, 0 Missionaries, 2 Cannibals\n",
            "1 Missionaries, 1 Cannibals, Boat on right, 2 Missionaries, 2 Cannibals\n",
            "2 Missionaries, 2 Cannibals, Boat on left, 1 Missionaries, 1 Cannibals\n",
            "0 Missionaries, 2 Cannibals, Boat on right, 3 Missionaries, 1 Cannibals\n",
            "0 Missionaries, 3 Cannibals, Boat on left, 3 Missionaries, 0 Cannibals\n",
            "0 Missionaries, 1 Cannibals, Boat on right, 3 Missionaries, 2 Cannibals\n",
            "1 Missionaries, 1 Cannibals, Boat on left, 2 Missionaries, 2 Cannibals\n",
            "0 Missionaries, 0 Cannibals, Boat on right, 3 Missionaries, 3 Cannibals\n"
          ]
        }
      ]
    }
  ]
}